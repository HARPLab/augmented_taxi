{
 "cells": [
  {
   "cell_type": "code",
   "execution_count": 1,
   "id": "1c21aa98",
   "metadata": {},
   "outputs": [
    {
     "name": "stderr",
     "output_type": "stream",
     "text": [
      "/home/sureshkj/anaconda3/envs/aug_taxi/lib/python3.9/site-packages/tensorflow/python/framework/dtypes.py:246: DeprecationWarning: `np.bool8` is a deprecated alias for `np.bool_`.  (Deprecated NumPy 1.24)\n",
      "  np.bool8: (False, True),\n"
     ]
    },
    {
     "name": "stdout",
     "output_type": "stream",
     "text": [
      "Warning: OpenAI gym not installed.\n"
     ]
    }
   ],
   "source": [
    "# Analyze simulation data\n",
    "\n",
    "import pandas as pd\n",
    "import ast\n",
    "import json\n",
    "import teams.teams_helpers as teams_helpers\n",
    "import params_team as params\n",
    "import numpy as np\n",
    "import seaborn as sns\n",
    "import matplotlib.pyplot as plt\n",
    "import matplotlib\n",
    "import math\n",
    "import os\n",
    "from termcolor import colored\n",
    "import warnings\n",
    "import textwrap\n",
    "import pickle\n",
    "from ast import literal_eval\n",
    "import copy\n",
    "plt.rcParams['figure.figsize'] = [15, 10]\n",
    "\n",
    "import teams.teams_helpers as team_helpers\n",
    "import params_team as params\n",
    "# import simulation.sim_helpers as sim_helpers\n",
    "\n",
    "# from SALib.analyze import sobol\n",
    "from pingouin import partial_corr"
   ]
  },
  {
   "cell_type": "code",
   "execution_count": null,
   "id": "073e1bdf",
   "metadata": {},
   "outputs": [],
   "source": [
    "\n"
   ]
  }
 ],
 "metadata": {
  "kernelspec": {
   "display_name": "Python 3",
   "language": "python",
   "name": "python3"
  },
  "language_info": {
   "codemirror_mode": {
    "name": "ipython",
    "version": 3
   },
   "file_extension": ".py",
   "mimetype": "text/x-python",
   "name": "python",
   "nbconvert_exporter": "python",
   "pygments_lexer": "ipython3",
   "version": "3.9.15"
  }
 },
 "nbformat": 4,
 "nbformat_minor": 5
}
